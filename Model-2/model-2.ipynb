{
 "cells": [
  {
   "cell_type": "code",
   "execution_count": 2,
   "id": "89878b9b-daac-4981-a4f9-30e122266473",
   "metadata": {},
   "outputs": [
    {
     "name": "stdin",
     "output_type": "stream",
     "text": [
      "Enter the ingredients:  cream, prawn\n"
     ]
    },
    {
     "name": "stdout",
     "output_type": "stream",
     "text": [
      "\n",
      "Recommended dishes:-\n",
      "Shahi Paneer, Paneer Pasanda, Paneer Kofta, Malai Kofta, Dum ka Murgh\n"
     ]
    }
   ],
   "source": [
    "import pandas as pd\n",
    "from sklearn.feature_extraction.text import TfidfVectorizer\n",
    "from sklearn.metrics.pairwise import cosine_similarity\n",
    "from itertools import combinations\n",
    "\n",
    "food_df = pd.read_csv('Indian_food_4.0.csv')\n",
    "food_df['Ingredients'] = food_df['Ingredients'].apply(lambda x: x.lower())\n",
    "\n",
    "def generate_combinations(ingredients, iteration):\n",
    "    return list(combinations(ingredients, len(ingredients) - iteration))\n",
    "\n",
    "def recommend_dishes(ingredients_group1, ingredients_group2, previous_recommendations):\n",
    "    # Use TfidfVectorizer to convert ingredients into TF-IDF vectors\n",
    "    vectorizer = TfidfVectorizer()\n",
    "    ingredients_matrix = vectorizer.fit_transform(food_df['Ingredients'])\n",
    "\n",
    "    # Combine ingredients from both groups\n",
    "    all_ingredients = ingredients_group1 + ingredients_group2\n",
    "\n",
    "    # Calculate cosine similarity between input ingredients and all dishes\n",
    "    cosine_sim = cosine_similarity(vectorizer.transform([' '.join(all_ingredients)]), ingredients_matrix)\n",
    "\n",
    "    # Get dish recommendations sorted by similarity\n",
    "    recommendations = food_df.iloc[cosine_sim.argsort()[0][::-1]]\n",
    "\n",
    "    # Filter out dishes recommended in previous iterations\n",
    "    recommendations = recommendations[~recommendations['Dishes'].isin(previous_recommendations)]\n",
    "\n",
    "    return recommendations['Dishes'].tolist()\n",
    "\n",
    "def main_recommendation(input_ingredients):\n",
    "    input_ingredients = input_ingredients.split(\", \")\n",
    "    all_recommendations = []\n",
    "    final_dishes = []\n",
    "\n",
    "    for iteration in range(len(input_ingredients)):\n",
    "        group1 = input_ingredients[:len(input_ingredients) - iteration]\n",
    "        group2 = input_ingredients[len(input_ingredients) - iteration:]\n",
    "\n",
    "        combinations_list = generate_combinations(group1, iteration)\n",
    "\n",
    "        for combination in combinations_list:\n",
    "            recommended_dishes = recommend_dishes(list(combination), group2, all_recommendations)\n",
    "            all_recommendations += recommended_dishes\n",
    "\n",
    "            # Check if at least 5 dishes are recommended\n",
    "            if len(all_recommendations) >= 5:\n",
    "                final_dishes = all_recommendations[:5]\n",
    "                recc_df = food_df[food_df['Dishes'].isin(final_dishes) & food_df['Ingredients'].apply(lambda x: any(ingredient in x for ingredient in input_ingredients))]\n",
    "                resultant_dishes = recc_df['Dishes'].tolist()\n",
    "                resultant_dishes.reverse()\n",
    "                return resultant_dishes\n",
    "\n",
    "def final_recommendation(input_ingredients):\n",
    "    x = main_recommendation(input_ingredients)\n",
    "    print('\\nRecommended dishes:-')\n",
    "    print(', '.join(x))\n",
    "\n",
    "input_ingredients = input(\"Enter the ingredients: \")\n",
    "final_recommendation(input_ingredients)"
   ]
  },
  {
   "cell_type": "code",
   "execution_count": null,
   "id": "7c74b21b-8c22-4b06-9519-016d82c1bc59",
   "metadata": {},
   "outputs": [],
   "source": []
  }
 ],
 "metadata": {
  "kernelspec": {
   "display_name": "Python 3 (ipykernel)",
   "language": "python",
   "name": "python3"
  },
  "language_info": {
   "codemirror_mode": {
    "name": "ipython",
    "version": 3
   },
   "file_extension": ".py",
   "mimetype": "text/x-python",
   "name": "python",
   "nbconvert_exporter": "python",
   "pygments_lexer": "ipython3",
   "version": "3.11.4"
  }
 },
 "nbformat": 4,
 "nbformat_minor": 5
}
